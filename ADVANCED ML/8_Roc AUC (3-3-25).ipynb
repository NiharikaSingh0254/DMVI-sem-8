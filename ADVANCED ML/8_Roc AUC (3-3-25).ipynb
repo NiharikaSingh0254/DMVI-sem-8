{
 "cells": [
  {
   "cell_type": "markdown",
   "id": "0bded334",
   "metadata": {},
   "source": [
    "### Q1. Problem Statement: ROC, AUC, Precision, Recall, and F1 Score\n",
    "\n",
    "Load the 'Breast Cancer_Dataset.csv dataset into a DataFrame and perform the following lasks:\n",
    "\n",
    "1. Identify the null values and remove the null rows and columns by using the dropna() function\n",
    "\n",
    "2. Considering the 'diagnosis' column as the target, encode the 'diagnosis' column using the LabelEncoder()\n",
    "\n",
    "3. Separate the target variable and the feature vectors\n",
    "\n",
    "4. Split the dataset into the training set and test set in a 70:30 ratio\n",
    "\n",
    "5. Building a Logistic Regression, Naive Bayes, Decision Tree (CART), K-NN, SVM, and Random ForestClassifier models; Also, print their accuracies\n",
    "\n",
    "6. Calculate the ROC AUC score based on the False Positive Rate (FPR) and True Positive Rate (TPR)\n",
    "\n",
    "7. Plot the ROC Curve using the Matplotlib library\n",
    "\n",
    "8. Calculate the F1 Score\n",
    "\n",
    "9. Calculate and Print the Precision, Recall, and F1 score using the classification_report() function"
   ]
  },
  {
   "cell_type": "markdown",
   "id": "22adcd5f",
   "metadata": {},
   "source": [
    "step 1:Importing the required libraries"
   ]
  },
  {
   "cell_type": "code",
   "execution_count": 1,
   "id": "678b56ca",
   "metadata": {},
   "outputs": [],
   "source": [
    "import numpy as np\n",
    "import pandas as pd\n",
    "from sklearn import preprocessing\n",
    "from sklearn.tree import DecisionTreeClassifier\n",
    "from sklearn.model_selection import train_test_split\n",
    "from sklearn import metrics"
   ]
  },
  {
   "cell_type": "markdown",
   "id": "b267bc96",
   "metadata": {},
   "source": [
    "step 2:Load the csv data into DataFrame"
   ]
  },
  {
   "cell_type": "code",
   "execution_count": 2,
   "id": "12c4764b",
   "metadata": {},
   "outputs": [
    {
     "data": {
      "text/html": [
       "<div>\n",
       "<style scoped>\n",
       "    .dataframe tbody tr th:only-of-type {\n",
       "        vertical-align: middle;\n",
       "    }\n",
       "\n",
       "    .dataframe tbody tr th {\n",
       "        vertical-align: top;\n",
       "    }\n",
       "\n",
       "    .dataframe thead th {\n",
       "        text-align: right;\n",
       "    }\n",
       "</style>\n",
       "<table border=\"1\" class=\"dataframe\">\n",
       "  <thead>\n",
       "    <tr style=\"text-align: right;\">\n",
       "      <th></th>\n",
       "      <th>id</th>\n",
       "      <th>diagnosis</th>\n",
       "      <th>radius_mean</th>\n",
       "      <th>texture_mean</th>\n",
       "      <th>perimeter_mean</th>\n",
       "      <th>area_mean</th>\n",
       "      <th>smoothness_mean</th>\n",
       "      <th>compactness_mean</th>\n",
       "      <th>concavity_mean</th>\n",
       "      <th>concave points_mean</th>\n",
       "      <th>...</th>\n",
       "      <th>texture_worst</th>\n",
       "      <th>perimeter_worst</th>\n",
       "      <th>area_worst</th>\n",
       "      <th>smoothness_worst</th>\n",
       "      <th>compactness_worst</th>\n",
       "      <th>concavity_worst</th>\n",
       "      <th>concave points_worst</th>\n",
       "      <th>symmetry_worst</th>\n",
       "      <th>fractal_dimension_worst</th>\n",
       "      <th>Unnamed: 32</th>\n",
       "    </tr>\n",
       "  </thead>\n",
       "  <tbody>\n",
       "    <tr>\n",
       "      <th>481</th>\n",
       "      <td>91227</td>\n",
       "      <td>B</td>\n",
       "      <td>13.90</td>\n",
       "      <td>19.24</td>\n",
       "      <td>88.73</td>\n",
       "      <td>602.9</td>\n",
       "      <td>0.07991</td>\n",
       "      <td>0.05326</td>\n",
       "      <td>0.029950</td>\n",
       "      <td>0.020700</td>\n",
       "      <td>...</td>\n",
       "      <td>26.42</td>\n",
       "      <td>104.40</td>\n",
       "      <td>830.5</td>\n",
       "      <td>0.10640</td>\n",
       "      <td>0.14150</td>\n",
       "      <td>0.16730</td>\n",
       "      <td>0.08150</td>\n",
       "      <td>0.2356</td>\n",
       "      <td>0.07603</td>\n",
       "      <td>NaN</td>\n",
       "    </tr>\n",
       "    <tr>\n",
       "      <th>213</th>\n",
       "      <td>881094802</td>\n",
       "      <td>M</td>\n",
       "      <td>17.42</td>\n",
       "      <td>25.56</td>\n",
       "      <td>114.50</td>\n",
       "      <td>948.0</td>\n",
       "      <td>0.10060</td>\n",
       "      <td>0.11460</td>\n",
       "      <td>0.168200</td>\n",
       "      <td>0.065970</td>\n",
       "      <td>...</td>\n",
       "      <td>28.07</td>\n",
       "      <td>120.40</td>\n",
       "      <td>1021.0</td>\n",
       "      <td>0.12430</td>\n",
       "      <td>0.17930</td>\n",
       "      <td>0.28030</td>\n",
       "      <td>0.10990</td>\n",
       "      <td>0.1603</td>\n",
       "      <td>0.06818</td>\n",
       "      <td>NaN</td>\n",
       "    </tr>\n",
       "    <tr>\n",
       "      <th>309</th>\n",
       "      <td>893548</td>\n",
       "      <td>B</td>\n",
       "      <td>13.05</td>\n",
       "      <td>13.84</td>\n",
       "      <td>82.71</td>\n",
       "      <td>530.6</td>\n",
       "      <td>0.08352</td>\n",
       "      <td>0.03735</td>\n",
       "      <td>0.004559</td>\n",
       "      <td>0.008829</td>\n",
       "      <td>...</td>\n",
       "      <td>17.40</td>\n",
       "      <td>93.96</td>\n",
       "      <td>672.4</td>\n",
       "      <td>0.10160</td>\n",
       "      <td>0.05847</td>\n",
       "      <td>0.01824</td>\n",
       "      <td>0.03532</td>\n",
       "      <td>0.2107</td>\n",
       "      <td>0.06580</td>\n",
       "      <td>NaN</td>\n",
       "    </tr>\n",
       "    <tr>\n",
       "      <th>460</th>\n",
       "      <td>911296201</td>\n",
       "      <td>M</td>\n",
       "      <td>17.08</td>\n",
       "      <td>27.15</td>\n",
       "      <td>111.20</td>\n",
       "      <td>930.9</td>\n",
       "      <td>0.09898</td>\n",
       "      <td>0.11100</td>\n",
       "      <td>0.100700</td>\n",
       "      <td>0.064310</td>\n",
       "      <td>...</td>\n",
       "      <td>34.49</td>\n",
       "      <td>152.10</td>\n",
       "      <td>1648.0</td>\n",
       "      <td>0.16000</td>\n",
       "      <td>0.24440</td>\n",
       "      <td>0.26390</td>\n",
       "      <td>0.15550</td>\n",
       "      <td>0.3010</td>\n",
       "      <td>0.09060</td>\n",
       "      <td>NaN</td>\n",
       "    </tr>\n",
       "    <tr>\n",
       "      <th>477</th>\n",
       "      <td>911673</td>\n",
       "      <td>B</td>\n",
       "      <td>13.90</td>\n",
       "      <td>16.62</td>\n",
       "      <td>88.97</td>\n",
       "      <td>599.4</td>\n",
       "      <td>0.06828</td>\n",
       "      <td>0.05319</td>\n",
       "      <td>0.022240</td>\n",
       "      <td>0.013390</td>\n",
       "      <td>...</td>\n",
       "      <td>21.80</td>\n",
       "      <td>101.20</td>\n",
       "      <td>718.9</td>\n",
       "      <td>0.09384</td>\n",
       "      <td>0.20060</td>\n",
       "      <td>0.13840</td>\n",
       "      <td>0.06222</td>\n",
       "      <td>0.2679</td>\n",
       "      <td>0.07698</td>\n",
       "      <td>NaN</td>\n",
       "    </tr>\n",
       "    <tr>\n",
       "      <th>119</th>\n",
       "      <td>865128</td>\n",
       "      <td>M</td>\n",
       "      <td>17.95</td>\n",
       "      <td>20.01</td>\n",
       "      <td>114.20</td>\n",
       "      <td>982.0</td>\n",
       "      <td>0.08402</td>\n",
       "      <td>0.06722</td>\n",
       "      <td>0.072930</td>\n",
       "      <td>0.055960</td>\n",
       "      <td>...</td>\n",
       "      <td>27.83</td>\n",
       "      <td>129.20</td>\n",
       "      <td>1261.0</td>\n",
       "      <td>0.10720</td>\n",
       "      <td>0.12020</td>\n",
       "      <td>0.22490</td>\n",
       "      <td>0.11850</td>\n",
       "      <td>0.4882</td>\n",
       "      <td>0.06111</td>\n",
       "      <td>NaN</td>\n",
       "    </tr>\n",
       "    <tr>\n",
       "      <th>100</th>\n",
       "      <td>862717</td>\n",
       "      <td>M</td>\n",
       "      <td>13.61</td>\n",
       "      <td>24.98</td>\n",
       "      <td>88.05</td>\n",
       "      <td>582.7</td>\n",
       "      <td>0.09488</td>\n",
       "      <td>0.08511</td>\n",
       "      <td>0.086250</td>\n",
       "      <td>0.044890</td>\n",
       "      <td>...</td>\n",
       "      <td>35.27</td>\n",
       "      <td>108.60</td>\n",
       "      <td>906.5</td>\n",
       "      <td>0.12650</td>\n",
       "      <td>0.19430</td>\n",
       "      <td>0.31690</td>\n",
       "      <td>0.11840</td>\n",
       "      <td>0.2651</td>\n",
       "      <td>0.07397</td>\n",
       "      <td>NaN</td>\n",
       "    </tr>\n",
       "    <tr>\n",
       "      <th>490</th>\n",
       "      <td>91376701</td>\n",
       "      <td>B</td>\n",
       "      <td>12.25</td>\n",
       "      <td>22.44</td>\n",
       "      <td>78.18</td>\n",
       "      <td>466.5</td>\n",
       "      <td>0.08192</td>\n",
       "      <td>0.05200</td>\n",
       "      <td>0.017140</td>\n",
       "      <td>0.012610</td>\n",
       "      <td>...</td>\n",
       "      <td>31.99</td>\n",
       "      <td>92.74</td>\n",
       "      <td>622.9</td>\n",
       "      <td>0.12560</td>\n",
       "      <td>0.18040</td>\n",
       "      <td>0.12300</td>\n",
       "      <td>0.06335</td>\n",
       "      <td>0.3100</td>\n",
       "      <td>0.08203</td>\n",
       "      <td>NaN</td>\n",
       "    </tr>\n",
       "    <tr>\n",
       "      <th>180</th>\n",
       "      <td>873592</td>\n",
       "      <td>M</td>\n",
       "      <td>27.22</td>\n",
       "      <td>21.87</td>\n",
       "      <td>182.10</td>\n",
       "      <td>2250.0</td>\n",
       "      <td>0.10940</td>\n",
       "      <td>0.19140</td>\n",
       "      <td>0.287100</td>\n",
       "      <td>0.187800</td>\n",
       "      <td>...</td>\n",
       "      <td>32.85</td>\n",
       "      <td>220.80</td>\n",
       "      <td>3216.0</td>\n",
       "      <td>0.14720</td>\n",
       "      <td>0.40340</td>\n",
       "      <td>0.53400</td>\n",
       "      <td>0.26880</td>\n",
       "      <td>0.2856</td>\n",
       "      <td>0.08082</td>\n",
       "      <td>NaN</td>\n",
       "    </tr>\n",
       "    <tr>\n",
       "      <th>395</th>\n",
       "      <td>903811</td>\n",
       "      <td>B</td>\n",
       "      <td>14.06</td>\n",
       "      <td>17.18</td>\n",
       "      <td>89.75</td>\n",
       "      <td>609.1</td>\n",
       "      <td>0.08045</td>\n",
       "      <td>0.05361</td>\n",
       "      <td>0.026810</td>\n",
       "      <td>0.032510</td>\n",
       "      <td>...</td>\n",
       "      <td>25.34</td>\n",
       "      <td>96.42</td>\n",
       "      <td>684.5</td>\n",
       "      <td>0.10660</td>\n",
       "      <td>0.12310</td>\n",
       "      <td>0.08460</td>\n",
       "      <td>0.07911</td>\n",
       "      <td>0.2523</td>\n",
       "      <td>0.06609</td>\n",
       "      <td>NaN</td>\n",
       "    </tr>\n",
       "  </tbody>\n",
       "</table>\n",
       "<p>10 rows × 33 columns</p>\n",
       "</div>"
      ],
      "text/plain": [
       "            id diagnosis  radius_mean  texture_mean  perimeter_mean  \\\n",
       "481      91227         B        13.90         19.24           88.73   \n",
       "213  881094802         M        17.42         25.56          114.50   \n",
       "309     893548         B        13.05         13.84           82.71   \n",
       "460  911296201         M        17.08         27.15          111.20   \n",
       "477     911673         B        13.90         16.62           88.97   \n",
       "119     865128         M        17.95         20.01          114.20   \n",
       "100     862717         M        13.61         24.98           88.05   \n",
       "490   91376701         B        12.25         22.44           78.18   \n",
       "180     873592         M        27.22         21.87          182.10   \n",
       "395     903811         B        14.06         17.18           89.75   \n",
       "\n",
       "     area_mean  smoothness_mean  compactness_mean  concavity_mean  \\\n",
       "481      602.9          0.07991           0.05326        0.029950   \n",
       "213      948.0          0.10060           0.11460        0.168200   \n",
       "309      530.6          0.08352           0.03735        0.004559   \n",
       "460      930.9          0.09898           0.11100        0.100700   \n",
       "477      599.4          0.06828           0.05319        0.022240   \n",
       "119      982.0          0.08402           0.06722        0.072930   \n",
       "100      582.7          0.09488           0.08511        0.086250   \n",
       "490      466.5          0.08192           0.05200        0.017140   \n",
       "180     2250.0          0.10940           0.19140        0.287100   \n",
       "395      609.1          0.08045           0.05361        0.026810   \n",
       "\n",
       "     concave points_mean  ...  texture_worst  perimeter_worst  area_worst  \\\n",
       "481             0.020700  ...          26.42           104.40       830.5   \n",
       "213             0.065970  ...          28.07           120.40      1021.0   \n",
       "309             0.008829  ...          17.40            93.96       672.4   \n",
       "460             0.064310  ...          34.49           152.10      1648.0   \n",
       "477             0.013390  ...          21.80           101.20       718.9   \n",
       "119             0.055960  ...          27.83           129.20      1261.0   \n",
       "100             0.044890  ...          35.27           108.60       906.5   \n",
       "490             0.012610  ...          31.99            92.74       622.9   \n",
       "180             0.187800  ...          32.85           220.80      3216.0   \n",
       "395             0.032510  ...          25.34            96.42       684.5   \n",
       "\n",
       "     smoothness_worst  compactness_worst  concavity_worst  \\\n",
       "481           0.10640            0.14150          0.16730   \n",
       "213           0.12430            0.17930          0.28030   \n",
       "309           0.10160            0.05847          0.01824   \n",
       "460           0.16000            0.24440          0.26390   \n",
       "477           0.09384            0.20060          0.13840   \n",
       "119           0.10720            0.12020          0.22490   \n",
       "100           0.12650            0.19430          0.31690   \n",
       "490           0.12560            0.18040          0.12300   \n",
       "180           0.14720            0.40340          0.53400   \n",
       "395           0.10660            0.12310          0.08460   \n",
       "\n",
       "     concave points_worst  symmetry_worst  fractal_dimension_worst  \\\n",
       "481               0.08150          0.2356                  0.07603   \n",
       "213               0.10990          0.1603                  0.06818   \n",
       "309               0.03532          0.2107                  0.06580   \n",
       "460               0.15550          0.3010                  0.09060   \n",
       "477               0.06222          0.2679                  0.07698   \n",
       "119               0.11850          0.4882                  0.06111   \n",
       "100               0.11840          0.2651                  0.07397   \n",
       "490               0.06335          0.3100                  0.08203   \n",
       "180               0.26880          0.2856                  0.08082   \n",
       "395               0.07911          0.2523                  0.06609   \n",
       "\n",
       "     Unnamed: 32  \n",
       "481          NaN  \n",
       "213          NaN  \n",
       "309          NaN  \n",
       "460          NaN  \n",
       "477          NaN  \n",
       "119          NaN  \n",
       "100          NaN  \n",
       "490          NaN  \n",
       "180          NaN  \n",
       "395          NaN  \n",
       "\n",
       "[10 rows x 33 columns]"
      ]
     },
     "execution_count": 2,
     "metadata": {},
     "output_type": "execute_result"
    }
   ],
   "source": [
    "data=pd.read_csv(\"Breast_Cancer_Dataset.csv\")\n",
    "df = data.copy()\n",
    "df.sample(10)"
   ]
  },
  {
   "cell_type": "markdown",
   "id": "7e05e95f",
   "metadata": {},
   "source": [
    "step 3:Identifying adn dropping the null rows/columns."
   ]
  },
  {
   "cell_type": "code",
   "execution_count": 3,
   "id": "21e733e7",
   "metadata": {},
   "outputs": [
    {
     "data": {
      "text/plain": [
       "id                           0\n",
       "diagnosis                    0\n",
       "radius_mean                  0\n",
       "texture_mean                 0\n",
       "perimeter_mean               0\n",
       "area_mean                    0\n",
       "smoothness_mean              0\n",
       "compactness_mean             0\n",
       "concavity_mean               0\n",
       "concave points_mean          0\n",
       "symmetry_mean                0\n",
       "fractal_dimension_mean       0\n",
       "radius_se                    0\n",
       "texture_se                   0\n",
       "perimeter_se                 0\n",
       "area_se                      0\n",
       "smoothness_se                0\n",
       "compactness_se               0\n",
       "concavity_se                 0\n",
       "concave points_se            0\n",
       "symmetry_se                  0\n",
       "fractal_dimension_se         0\n",
       "radius_worst                 0\n",
       "texture_worst                0\n",
       "perimeter_worst              0\n",
       "area_worst                   0\n",
       "smoothness_worst             0\n",
       "compactness_worst            0\n",
       "concavity_worst              0\n",
       "concave points_worst         0\n",
       "symmetry_worst               0\n",
       "fractal_dimension_worst      0\n",
       "Unnamed: 32                569\n",
       "dtype: int64"
      ]
     },
     "execution_count": 3,
     "metadata": {},
     "output_type": "execute_result"
    }
   ],
   "source": [
    "df.isnull().sum()"
   ]
  },
  {
   "cell_type": "code",
   "execution_count": 4,
   "id": "b6cfeb90",
   "metadata": {},
   "outputs": [],
   "source": [
    "df = df.iloc[:,:-1]"
   ]
  },
  {
   "cell_type": "markdown",
   "id": "0b973d62",
   "metadata": {},
   "source": [
    "step 4:Encoding the 'diagnosis' columns using the LabelEncoder"
   ]
  },
  {
   "cell_type": "code",
   "execution_count": 5,
   "id": "b5db3922",
   "metadata": {},
   "outputs": [],
   "source": [
    "le = preprocessing.LabelEncoder()\n",
    "df.diagnosis = le.fit_transform(df['diagnosis'])\n"
   ]
  },
  {
   "cell_type": "markdown",
   "id": "57e311f5",
   "metadata": {},
   "source": [
    "step 5: separating the target variable and the feature vectors"
   ]
  },
  {
   "cell_type": "code",
   "execution_count": 6,
   "id": "bdc2bb54",
   "metadata": {},
   "outputs": [],
   "source": [
    "X = df.drop([\"diagnosis\"],axis=1) #features\n",
    "y = df[\"diagnosis\"] #Target variable"
   ]
  },
  {
   "cell_type": "markdown",
   "id": "e5e19464",
   "metadata": {},
   "source": [
    "### **Step 6 : Splitting the dataset into training set and testing set**"
   ]
  },
  {
   "cell_type": "code",
   "execution_count": 12,
   "id": "81dbd788",
   "metadata": {},
   "outputs": [],
   "source": [
    "# Splitting the dataset into training set and testing set\n",
    "\n",
    "X_train, X_test, y_train, y_test = train_test_split(X, y, test_size=0.3, random_state=1)"
   ]
  },
  {
   "cell_type": "markdown",
   "id": "d9acda87",
   "metadata": {},
   "source": [
    "### **Step-7: Building a Logistic Regression, Naive Bayes, Decision Tree (CART), K-NN, SVM, and Random ForestClassifier models. Also, print thier respective accuracies.**\n",
    "\n",
    "Hint: You can declare the algorithms in a list and iterate through them to build thier respective models and calcult thier accuracies using a for loop."
   ]
  },
  {
   "cell_type": "code",
   "execution_count": 13,
   "id": "6777d025",
   "metadata": {},
   "outputs": [
    {
     "name": "stderr",
     "output_type": "stream",
     "text": [
      "C:\\Users\\divu2\\AppData\\Local\\Packages\\PythonSoftwareFoundation.Python.3.11_qbz5n2kfra8p0\\LocalCache\\local-packages\\Python311\\site-packages\\sklearn\\linear_model\\_logistic.py:465: ConvergenceWarning: lbfgs failed to converge (status=1):\n",
      "STOP: TOTAL NO. of ITERATIONS REACHED LIMIT.\n",
      "\n",
      "Increase the number of iterations (max_iter) or scale the data as shown in:\n",
      "    https://scikit-learn.org/stable/modules/preprocessing.html\n",
      "Please also refer to the documentation for alternative solver options:\n",
      "    https://scikit-learn.org/stable/modules/linear_model.html#logistic-regression\n",
      "  n_iter_i = _check_optimize_result(\n"
     ]
    },
    {
     "name": "stdout",
     "output_type": "stream",
     "text": [
      "Logistic Regression -> ACC: %92.40\n",
      "Naive Bayes -> ACC: %63.16\n",
      "Decision Tree -> ACC: %93.57\n",
      "K-NN -> ACC: %76.61\n",
      "SVM -> ACC: %63.16\n",
      "RandomForestClassifier -> ACC: %93.57\n"
     ]
    }
   ],
   "source": [
    "from sklearn.naive_bayes import GaussianNB\n",
    "from sklearn.linear_model import LogisticRegression\n",
    "from sklearn.neighbors import KNeighborsClassifier\n",
    "from sklearn.svm import SVC\n",
    "from sklearn.tree import DecisionTreeClassifier\n",
    "from sklearn.discriminant_analysis import LinearDiscriminantAnalysis\n",
    "from sklearn.ensemble import RandomForestClassifier\n",
    "\n",
    "models = []\n",
    "\n",
    "models.append(('Logistic Regression', LogisticRegression()))\n",
    "\n",
    "models.append(('Naive Bayes', GaussianNB()))\n",
    "\n",
    "models.append(('Decision Tree', DecisionTreeClassifier()))\n",
    "\n",
    "models.append(('K-NN', KNeighborsClassifier()))\n",
    "\n",
    "models.append(('SVM', SVC()))\n",
    "models.append(('RandomForestClassifier', RandomForestClassifier()))\n",
    "\n",
    "for name, model in models:\n",
    "    model=model.fit(X_train,y_train)\n",
    "    y_pred=model.predict(X_test)\n",
    "    from sklearn import metrics\n",
    "\n",
    "    print(\"%s -> ACC: %%%.2f\" % (name,metrics.accuracy_score(y_test,y_pred)*100))"
   ]
  },
  {
   "cell_type": "markdown",
   "id": "6c03cbe8",
   "metadata": {},
   "source": [
    "### **Step 8 Calculating the ROC AUC score based on False Positive rate(FPR) and True Positive Rate(TPR)**"
   ]
  },
  {
   "cell_type": "code",
   "execution_count": 14,
   "id": "d25fe2cf",
   "metadata": {},
   "outputs": [
    {
     "name": "stdout",
     "output_type": "stream",
     "text": [
      "ROC_AUC Score is:\n"
     ]
    },
    {
     "data": {
      "text/plain": [
       "np.float64(0.9292328042328042)"
      ]
     },
     "execution_count": 14,
     "metadata": {},
     "output_type": "execute_result"
    }
   ],
   "source": [
    "import sklearn.metrics as metrics\n",
    "\n",
    "# Calculate the fpr and tpr for all thresholds of the classification\n",
    "probs=model.predict_proba(X_test)\n",
    "preds=probs[:,1]\n",
    "\n",
    "fpr, tpr, threshold = metrics.roc_curve(y_test, y_pred)\n",
    "\n",
    "roc_auc = metrics.auc(fpr, tpr)\n",
    "print(\"ROC_AUC Score is:\")\n",
    "\n",
    "roc_auc"
   ]
  },
  {
   "cell_type": "markdown",
   "id": "9b271ed5",
   "metadata": {},
   "source": [
    "### **Step-9: Plotting the ROC Curve using the Matplotlib library.**"
   ]
  },
  {
   "cell_type": "code",
   "execution_count": 15,
   "id": "d13bd0c8",
   "metadata": {},
   "outputs": [
    {
     "data": {
      "image/png": "[encoded data removed]",
      "text/plain": [
       "<Figure size 640x480 with 1 Axes>"
      ]
     },
     "metadata": {},
     "output_type": "display_data"
    }
   ],
   "source": [
    "# method I: plt\n",
    "import matplotlib.pyplot as plt\n",
    "plt.title('Receiver Operating Characteristic, ')\n",
    "plt.plot(fpr, tpr, 'b', label = 'AUC = %0.2f' % roc_auc)\n",
    "plt.legend(loc = 'lower right')\n",
    "plt.plot([0, 1], [0, 1],'r--')\n",
    "plt.xlim([0, 1])\n",
    "plt.ylim([0, 1])\n",
    "plt.ylabel('True Positive Rate')\n",
    "plt.xlabel('False Positive Rate')\n",
    "plt.show()"
   ]
  },
  {
   "cell_type": "markdown",
   "id": "54ce6a83",
   "metadata": {},
   "source": [
    "### **Step-10: Calculating the F1 Score.**"
   ]
  },
  {
   "cell_type": "code",
   "execution_count": 16,
   "id": "fec7a813",
   "metadata": {},
   "outputs": [
    {
     "name": "stdout",
     "output_type": "stream",
     "text": [
      "F1 score is:\n"
     ]
    },
    {
     "data": {
      "text/plain": [
       "0.912"
      ]
     },
     "execution_count": 16,
     "metadata": {},
     "output_type": "execute_result"
    }
   ],
   "source": [
    "from sklearn.metrics import f1_score\n",
    "print(\"F1 score is:\")\n",
    "f1_score(y_test,y_pred)"
   ]
  },
  {
   "cell_type": "markdown",
   "id": "fbad1c53",
   "metadata": {},
   "source": [
    "### **Step-11: Calculating and Printing the Precision, Recall, and F1 Score using the classification_report() function.**"
   ]
  },
  {
   "cell_type": "code",
   "execution_count": 17,
   "id": "a56f6dbc",
   "metadata": {},
   "outputs": [
    {
     "name": "stdout",
     "output_type": "stream",
     "text": [
      "              precision    recall  f1-score   support\n",
      "\n",
      "           0       0.94      0.95      0.95       108\n",
      "           1       0.92      0.90      0.91        63\n",
      "\n",
      "    accuracy                           0.94       171\n",
      "   macro avg       0.93      0.93      0.93       171\n",
      "weighted avg       0.94      0.94      0.94       171\n",
      "\n"
     ]
    }
   ],
   "source": [
    "from sklearn.metrics import classification_report\n",
    "print(classification_report(y_test,y_pred))"
   ]
  },
  {
   "cell_type": "code",
   "execution_count": null,
   "id": "2537b47d",
   "metadata": {},
   "outputs": [],
   "source": []
  }
 ],
 "metadata": {
  "kernelspec": {
   "display_name": "Python 3",
   "language": "python",
   "name": "python3"
  },
  "language_info": {
   "codemirror_mode": {
    "name": "ipython",
    "version": 3
   },
   "file_extension": ".py",
   "mimetype": "text/x-python",
   "name": "python",
   "nbconvert_exporter": "python",
   "pygments_lexer": "ipython3",
   "version": "3.11.9"
  }
 },
 "nbformat": 4,
 "nbformat_minor": 5
}
