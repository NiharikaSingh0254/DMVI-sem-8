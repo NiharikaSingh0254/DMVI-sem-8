{
 "cells": [
  {
   "cell_type": "code",
   "execution_count": 1,
   "id": "01525e8c",
   "metadata": {},
   "outputs": [],
   "source": [
    "#DEMO:PERFORM "
   ]
  },
  {
   "cell_type": "markdown",
   "id": "e58a60bd",
   "metadata": {},
   "source": [
    "## DATASET"
   ]
  },
  {
   "cell_type": "code",
   "execution_count": 2,
   "id": "80ad55fe",
   "metadata": {},
   "outputs": [],
   "source": [
    "#WHOLESALE CUSTOMER DATA.CSV is the dataset that  "
   ]
  },
  {
   "cell_type": "code",
   "execution_count": 3,
   "id": "ea84d3f4",
   "metadata": {},
   "outputs": [],
   "source": [
    "#importing Required\n",
    "import pandas as pd\n",
    "import numpy as np\n",
    "import matplotlib.pyplot as plt\n",
    "import seaborn as sns\n",
    "from sklearn.model_selection import cross_val_score,train_test_split,KFold\n",
    "from sklearn.tree import DecisionTreeClassifier\n",
    "from sklearn.metrics import accuracy_score,r2_score,mean_squared_error,confusion_matrix\n",
    "from sklearn.linear_model import LinearRegression\n",
    "from sklearn.preprocessing import MinMaxScaler"
   ]
  },
  {
   "cell_type": "markdown",
   "id": "656b3331",
   "metadata": {},
   "source": [
    "## Data Analysis"
   ]
  },
  {
   "cell_type": "markdown",
   "id": "24ddb8a5",
   "metadata": {},
   "source": [
    "- Checking Data"
   ]
  },
  {
   "cell_type": "code",
   "execution_count": 5,
   "id": "c0fab07b",
   "metadata": {},
   "outputs": [],
   "source": [
    "data=pd.read_csv('Wholesale customers data.csv')"
   ]
  },
  {
   "cell_type": "code",
   "execution_count": 6,
   "id": "c04c1ded",
   "metadata": {},
   "outputs": [
    {
     "data": {
      "text/html": [
       "<div>\n",
       "<style scoped>\n",
       "    .dataframe tbody tr th:only-of-type {\n",
       "        vertical-align: middle;\n",
       "    }\n",
       "\n",
       "    .dataframe tbody tr th {\n",
       "        vertical-align: top;\n",
       "    }\n",
       "\n",
       "    .dataframe thead th {\n",
       "        text-align: right;\n",
       "    }\n",
       "</style>\n",
       "<table border=\"1\" class=\"dataframe\">\n",
       "  <thead>\n",
       "    <tr style=\"text-align: right;\">\n",
       "      <th></th>\n",
       "      <th>count</th>\n",
       "      <th>percentage</th>\n",
       "    </tr>\n",
       "  </thead>\n",
       "  <tbody>\n",
       "    <tr>\n",
       "      <th>Channel</th>\n",
       "      <td>0</td>\n",
       "      <td>0.0</td>\n",
       "    </tr>\n",
       "    <tr>\n",
       "      <th>Region</th>\n",
       "      <td>0</td>\n",
       "      <td>0.0</td>\n",
       "    </tr>\n",
       "    <tr>\n",
       "      <th>Fresh</th>\n",
       "      <td>0</td>\n",
       "      <td>0.0</td>\n",
       "    </tr>\n",
       "    <tr>\n",
       "      <th>Milk</th>\n",
       "      <td>0</td>\n",
       "      <td>0.0</td>\n",
       "    </tr>\n",
       "    <tr>\n",
       "      <th>Grocery</th>\n",
       "      <td>0</td>\n",
       "      <td>0.0</td>\n",
       "    </tr>\n",
       "    <tr>\n",
       "      <th>Frozen</th>\n",
       "      <td>0</td>\n",
       "      <td>0.0</td>\n",
       "    </tr>\n",
       "    <tr>\n",
       "      <th>Detergents_Paper</th>\n",
       "      <td>0</td>\n",
       "      <td>0.0</td>\n",
       "    </tr>\n",
       "    <tr>\n",
       "      <th>Delicassen</th>\n",
       "      <td>0</td>\n",
       "      <td>0.0</td>\n",
       "    </tr>\n",
       "  </tbody>\n",
       "</table>\n",
       "</div>"
      ],
      "text/plain": [
       "                  count  percentage\n",
       "Channel               0         0.0\n",
       "Region                0         0.0\n",
       "Fresh                 0         0.0\n",
       "Milk                  0         0.0\n",
       "Grocery               0         0.0\n",
       "Frozen                0         0.0\n",
       "Detergents_Paper      0         0.0\n",
       "Delicassen            0         0.0"
      ]
     },
     "execution_count": 6,
     "metadata": {},
     "output_type": "execute_result"
    }
   ],
   "source": [
    "pd.DataFrame({'count':data.isnull().sum(),'percentage':data.isnull().sum()/data.shape[0]})"
   ]
  },
  {
   "cell_type": "code",
   "execution_count": 7,
   "id": "d5473d23",
   "metadata": {},
   "outputs": [
    {
     "data": {
      "text/html": [
       "<div>\n",
       "<style scoped>\n",
       "    .dataframe tbody tr th:only-of-type {\n",
       "        vertical-align: middle;\n",
       "    }\n",
       "\n",
       "    .dataframe tbody tr th {\n",
       "        vertical-align: top;\n",
       "    }\n",
       "\n",
       "    .dataframe thead th {\n",
       "        text-align: right;\n",
       "    }\n",
       "</style>\n",
       "<table border=\"1\" class=\"dataframe\">\n",
       "  <thead>\n",
       "    <tr style=\"text-align: right;\">\n",
       "      <th></th>\n",
       "      <th>count</th>\n",
       "      <th>Percentage</th>\n",
       "    </tr>\n",
       "    <tr>\n",
       "      <th>Region</th>\n",
       "      <th></th>\n",
       "      <th></th>\n",
       "    </tr>\n",
       "  </thead>\n",
       "  <tbody>\n",
       "    <tr>\n",
       "      <th>3</th>\n",
       "      <td>316</td>\n",
       "      <td>0.718182</td>\n",
       "    </tr>\n",
       "    <tr>\n",
       "      <th>1</th>\n",
       "      <td>77</td>\n",
       "      <td>0.175000</td>\n",
       "    </tr>\n",
       "    <tr>\n",
       "      <th>2</th>\n",
       "      <td>47</td>\n",
       "      <td>0.106818</td>\n",
       "    </tr>\n",
       "  </tbody>\n",
       "</table>\n",
       "</div>"
      ],
      "text/plain": [
       "        count  Percentage\n",
       "Region                   \n",
       "3         316    0.718182\n",
       "1          77    0.175000\n",
       "2          47    0.106818"
      ]
     },
     "execution_count": 7,
     "metadata": {},
     "output_type": "execute_result"
    }
   ],
   "source": [
    "target_ratio = pd.DataFrame({\n",
    "    'count':data.Region.value_counts(),\n",
    "    'Percentage':data.Region.value_counts()/len(data)\n",
    "})\n",
    "target_ratio"
   ]
  },
  {
   "cell_type": "code",
   "execution_count": 8,
   "id": "4e94cc9e",
   "metadata": {},
   "outputs": [
    {
     "data": {
      "image/png": "[encoded data removed]",
      "text/plain": [
       "<Figure size 1000x200 with 1 Axes>"
      ]
     },
     "metadata": {},
     "output_type": "display_data"
    }
   ],
   "source": [
    "plt.figure(figsize=(10,2))\n",
    "plt.barh(target_ratio.index,target_ratio.Percentage)\n",
    "plt.xlabel('percentage')\n",
    "plt.show()"
   ]
  },
  {
   "cell_type": "markdown",
   "id": "fa2e3ae7",
   "metadata": {},
   "source": [
    "- handling categorical features"
   ]
  },
  {
   "cell_type": "code",
   "execution_count": 9,
   "id": "0cb5708c",
   "metadata": {},
   "outputs": [],
   "source": [
    "data=pd.get_dummies(data,columns=['Channel'])"
   ]
  },
  {
   "cell_type": "markdown",
   "id": "8e15cd4d",
   "metadata": {},
   "source": [
    "- scaling features"
   ]
  },
  {
   "cell_type": "code",
   "execution_count": 10,
   "id": "c5f70865",
   "metadata": {},
   "outputs": [
    {
     "name": "stderr",
     "output_type": "stream",
     "text": [
      "C:\\Users\\divu2\\AppData\\Local\\Temp\\ipykernel_9120\\2135091350.py:2: MatplotlibDeprecationWarning: The 'labels' parameter of boxplot() has been renamed 'tick_labels' since Matplotlib 3.9; support for the old name will be dropped in 3.11.\n",
      "  plt.boxplot(data[feat],labels=feat,vert=False)\n"
     ]
    },
    {
     "data": {
      "image/png": "[encoded data removed]",
      "text/plain": [
       "<Figure size 640x480 with 1 Axes>"
      ]
     },
     "metadata": {},
     "output_type": "display_data"
    }
   ],
   "source": [
    "feat=['Fresh','Milk','Grocery','Frozen','Detergents_Paper','Delicassen']\n",
    "plt.boxplot(data[feat],labels=feat,vert=False)\n",
    "plt.show()"
   ]
  },
  {
   "cell_type": "code",
   "execution_count": 11,
   "id": "459b481a",
   "metadata": {},
   "outputs": [],
   "source": [
    "data[feat]=MinMaxScaler().fit_transform(data[feat])"
   ]
  },
  {
   "cell_type": "code",
   "execution_count": null,
   "id": "b736c7d5",
   "metadata": {},
   "outputs": [
    {
     "data": {
      "image/png": "[encoded data removed]",
      "text/plain": [
       "<Figure size 640x480 with 1 Axes>"
      ]
     },
     "metadata": {},
     "output_type": "display_data"
    }
   ],
   "source": [
    "plt.boxplot(data[feat],labels=feat,vert=False)\n",
    "plt.show()"
   ]
  },
  {
   "cell_type": "markdown",
   "id": "fcfb8260",
   "metadata": {},
   "source": [
    "- keeping outliers as we don't want to miss some valuable information."
   ]
  },
  {
   "cell_type": "markdown",
   "id": "f30757eb",
   "metadata": {},
   "source": [
    "- NEW DATA"
   ]
  },
  {
   "cell_type": "code",
   "execution_count": 12,
   "id": "415f9ea0",
   "metadata": {},
   "outputs": [
    {
     "data": {
      "text/html": [
       "<div>\n",
       "<style scoped>\n",
       "    .dataframe tbody tr th:only-of-type {\n",
       "        vertical-align: middle;\n",
       "    }\n",
       "\n",
       "    .dataframe tbody tr th {\n",
       "        vertical-align: top;\n",
       "    }\n",
       "\n",
       "    .dataframe thead th {\n",
       "        text-align: right;\n",
       "    }\n",
       "</style>\n",
       "<table border=\"1\" class=\"dataframe\">\n",
       "  <thead>\n",
       "    <tr style=\"text-align: right;\">\n",
       "      <th></th>\n",
       "      <th>Region</th>\n",
       "      <th>Fresh</th>\n",
       "      <th>Milk</th>\n",
       "      <th>Grocery</th>\n",
       "      <th>Frozen</th>\n",
       "      <th>Detergents_Paper</th>\n",
       "      <th>Delicassen</th>\n",
       "      <th>Channel_1</th>\n",
       "      <th>Channel_2</th>\n",
       "    </tr>\n",
       "  </thead>\n",
       "  <tbody>\n",
       "    <tr>\n",
       "      <th>0</th>\n",
       "      <td>3</td>\n",
       "      <td>0.112940</td>\n",
       "      <td>0.130727</td>\n",
       "      <td>0.081464</td>\n",
       "      <td>0.003106</td>\n",
       "      <td>0.065427</td>\n",
       "      <td>0.027847</td>\n",
       "      <td>False</td>\n",
       "      <td>True</td>\n",
       "    </tr>\n",
       "    <tr>\n",
       "      <th>1</th>\n",
       "      <td>3</td>\n",
       "      <td>0.062899</td>\n",
       "      <td>0.132824</td>\n",
       "      <td>0.103097</td>\n",
       "      <td>0.028548</td>\n",
       "      <td>0.080590</td>\n",
       "      <td>0.036984</td>\n",
       "      <td>False</td>\n",
       "      <td>True</td>\n",
       "    </tr>\n",
       "    <tr>\n",
       "      <th>2</th>\n",
       "      <td>3</td>\n",
       "      <td>0.056622</td>\n",
       "      <td>0.119181</td>\n",
       "      <td>0.082790</td>\n",
       "      <td>0.039116</td>\n",
       "      <td>0.086052</td>\n",
       "      <td>0.163559</td>\n",
       "      <td>False</td>\n",
       "      <td>True</td>\n",
       "    </tr>\n",
       "    <tr>\n",
       "      <th>3</th>\n",
       "      <td>3</td>\n",
       "      <td>0.118254</td>\n",
       "      <td>0.015536</td>\n",
       "      <td>0.045464</td>\n",
       "      <td>0.104842</td>\n",
       "      <td>0.012346</td>\n",
       "      <td>0.037234</td>\n",
       "      <td>True</td>\n",
       "      <td>False</td>\n",
       "    </tr>\n",
       "    <tr>\n",
       "      <th>4</th>\n",
       "      <td>3</td>\n",
       "      <td>0.201626</td>\n",
       "      <td>0.072914</td>\n",
       "      <td>0.077552</td>\n",
       "      <td>0.063934</td>\n",
       "      <td>0.043455</td>\n",
       "      <td>0.108093</td>\n",
       "      <td>False</td>\n",
       "      <td>True</td>\n",
       "    </tr>\n",
       "  </tbody>\n",
       "</table>\n",
       "</div>"
      ],
      "text/plain": [
       "   Region     Fresh      Milk   Grocery    Frozen  Detergents_Paper  \\\n",
       "0       3  0.112940  0.130727  0.081464  0.003106          0.065427   \n",
       "1       3  0.062899  0.132824  0.103097  0.028548          0.080590   \n",
       "2       3  0.056622  0.119181  0.082790  0.039116          0.086052   \n",
       "3       3  0.118254  0.015536  0.045464  0.104842          0.012346   \n",
       "4       3  0.201626  0.072914  0.077552  0.063934          0.043455   \n",
       "\n",
       "   Delicassen  Channel_1  Channel_2  \n",
       "0    0.027847      False       True  \n",
       "1    0.036984      False       True  \n",
       "2    0.163559      False       True  \n",
       "3    0.037234       True      False  \n",
       "4    0.108093      False       True  "
      ]
     },
     "execution_count": 12,
     "metadata": {},
     "output_type": "execute_result"
    }
   ],
   "source": [
    "data.head()"
   ]
  },
  {
   "cell_type": "markdown",
   "id": "4c9ecf61",
   "metadata": {},
   "source": [
    "- selecting features"
   ]
  },
  {
   "cell_type": "code",
   "execution_count": 13,
   "id": "ad086678",
   "metadata": {},
   "outputs": [],
   "source": [
    "x=data.drop(['Region'],axis=1)\n",
    "y=data.Region"
   ]
  },
  {
   "cell_type": "markdown",
   "id": "632191b5",
   "metadata": {},
   "source": [
    "- k-fold cross validator"
   ]
  },
  {
   "cell_type": "markdown",
   "id": "b95f31d9",
   "metadata": {},
   "source": [
    "### **Following parameters are availabe in K-Fold Cross Validator:**\n",
    "- n_split:int Number of folds by default 5 and minimum value should be 2.\n"
   ]
  },
  {
   "cell_type": "code",
   "execution_count": 14,
   "id": "ce55c49b",
   "metadata": {},
   "outputs": [
    {
     "data": {
      "text/plain": [
       "4"
      ]
     },
     "execution_count": 14,
     "metadata": {},
     "output_type": "execute_result"
    }
   ],
   "source": [
    "kf=KFold(n_splits=4)\n",
    "kf.get_n_splits(x,y)"
   ]
  },
  {
   "cell_type": "code",
   "execution_count": 15,
   "id": "01c83f44",
   "metadata": {},
   "outputs": [
    {
     "name": "stdout",
     "output_type": "stream",
     "text": [
      "0.627\n",
      "0.573\n",
      "0.245\n",
      "0.609\n"
     ]
    }
   ],
   "source": [
    "clf=DecisionTreeClassifier()\n",
    "for train_ind,test_ind in kf.split(x,y):\n",
    "    clf.fit(x.iloc[train_ind,:],y.iloc[train_ind])\n",
    "    pred=clf.predict(x.iloc[test_ind,:])\n",
    "    print(round(accuracy_score(y[test_ind],pred),3))"
   ]
  },
  {
   "cell_type": "markdown",
   "id": "500b66eb",
   "metadata": {},
   "source": [
    "### **Cross validator**"
   ]
  },
  {
   "cell_type": "code",
   "execution_count": 16,
   "id": "5bcb9279",
   "metadata": {},
   "outputs": [
    {
     "data": {
      "text/plain": [
       "array([0.57272727, 0.48181818, 0.5       , 0.53636364])"
      ]
     },
     "execution_count": 16,
     "metadata": {},
     "output_type": "execute_result"
    }
   ],
   "source": [
    "cv=cross_val_score(DecisionTreeClassifier(),x,y,cv=4,scoring='accuracy')\n",
    "cv"
   ]
  },
  {
   "cell_type": "code",
   "execution_count": null,
   "id": "dfe5e465",
   "metadata": {},
   "outputs": [],
   "source": []
  }
 ],
 "metadata": {
  "kernelspec": {
   "display_name": "Python 3",
   "language": "python",
   "name": "python3"
  },
  "language_info": {
   "codemirror_mode": {
    "name": "ipython",
    "version": 3
   },
   "file_extension": ".py",
   "mimetype": "text/x-python",
   "name": "python",
   "nbconvert_exporter": "python",
   "pygments_lexer": "ipython3",
   "version": "3.11.9"
  }
 },
 "nbformat": 4,
 "nbformat_minor": 5
}
