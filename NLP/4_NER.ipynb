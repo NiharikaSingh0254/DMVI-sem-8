{
 "cells": [
  {
   "cell_type": "markdown",
   "metadata": {},
   "source": [
    "### **What Is NER?**\n",
    "- NER process identifies named entities & maps them to already defines categories such as person, location or organization."
   ]
  },
  {
   "cell_type": "markdown",
   "metadata": {},
   "source": [
    "- Divide the text into tokens using appropriate tokenizer from nltk\n",
    "- tag the tokens using"
   ]
  },
  {
   "cell_type": "code",
   "execution_count": 4,
   "metadata": {},
   "outputs": [
    {
     "name": "stderr",
     "output_type": "stream",
     "text": [
      "[nltk_data] Downloading package maxent_ne_chunker_tab to\n",
      "[nltk_data]     C:\\Users\\divu2\\AppData\\Roaming\\nltk_data...\n",
      "[nltk_data]   Package maxent_ne_chunker_tab is already up-to-date!\n",
      "[nltk_data] Downloading package words to\n",
      "[nltk_data]     C:\\Users\\divu2\\AppData\\Roaming\\nltk_data...\n",
      "[nltk_data]   Package words is already up-to-date!\n"
     ]
    },
    {
     "data": {
      "text/plain": [
       "True"
      ]
     },
     "execution_count": 4,
     "metadata": {},
     "output_type": "execute_result"
    }
   ],
   "source": [
    "import nltk\n",
    "from nltk import ne_chunk\n",
    "# nltk.download('maxent_ne_chunker')\n",
    "nltk.download('maxent_ne_chunker_tab')\n",
    "nltk.download('words')"
   ]
  },
  {
   "cell_type": "code",
   "execution_count": 3,
   "metadata": {},
   "outputs": [
    {
     "name": "stdout",
     "output_type": "stream",
     "text": [
      "(S\n",
      "  (GPE Ferrari/NNP)\n",
      "  is/VBZ\n",
      "  an/DT\n",
      "  (GPE Italian/JJ)\n",
      "  luxury/NN\n",
      "  sports/NNS\n",
      "  car/NN\n",
      "  manufracture/NN\n",
      "  based/VBN\n",
      "  in/IN\n",
      "  (GPE Maranello/NNP)\n",
      "  ./.\n",
      "  Founded/VBN\n",
      "  by/IN\n",
      "  (PERSON Enzo/NNP Ferrari/NNP)\n",
      "  in/IN\n",
      "  1939/CD\n",
      "  ,/,\n",
      "  the/DT\n",
      "  company/NN\n",
      "  built/VBD\n",
      "  its/PRP$\n",
      "  first/JJ\n",
      "  car/NN\n",
      "  in/IN\n",
      "  1940/CD\n",
      "  ./.)\n"
     ]
    }
   ],
   "source": [
    "ex=\"Ferrari is an Italian luxury sports car manufracture based in Maranello. Founded by Enzo Ferrari in 1939, the company built its first car in 1940.\"\n",
    "\n",
    "tokenize=nltk.word_tokenize(ex)\n",
    "tagged=nltk.pos_tag(tokenize)\n",
    "namedEnt=ne_chunk(tagged)\n",
    "\n",
    "print(namedEnt)"
   ]
  },
  {
   "cell_type": "markdown",
   "metadata": {},
   "source": [
    "- NER like POS tagger, is not 100 % accurate & sometimes returns wrong entities.\n",
    "- NPE Should be used with cautions."
   ]
  },
  {
   "cell_type": "markdown",
   "metadata": {},
   "source": [
    "### **What is WSD?**\n",
    "- It is the process of resolving the ambiguity which arises due to different meaning of words in different context.\n",
    "eg. - She is looking for a match \n",
    "    - Yesterday's football match was exciting"
   ]
  },
  {
   "cell_type": "markdown",
   "metadata": {},
   "source": [
    "### **WSD Using NLTK**"
   ]
  },
  {
   "cell_type": "code",
   "execution_count": 5,
   "metadata": {},
   "outputs": [
    {
     "name": "stdout",
     "output_type": "stream",
     "text": [
      "Synset('peer.n.01')\n",
      "Synset('match.n.05')\n"
     ]
    }
   ],
   "source": [
    "from nltk.wsd import lesk\n",
    "from nltk.tokenize import word_tokenize\n",
    "\n",
    "sen1=\"She is looking for a match.\"\n",
    "sen2=\"Yesterday's football match was exciting.\"\n",
    "\n",
    "print(lesk(word_tokenize(sen1),'match'))\n",
    "print(lesk(word_tokenize(sen2),'match'))"
   ]
  },
  {
   "cell_type": "code",
   "execution_count": null,
   "metadata": {},
   "outputs": [],
   "source": []
  }
 ],
 "metadata": {
  "kernelspec": {
   "display_name": "Python 3",
   "language": "python",
   "name": "python3"
  },
  "language_info": {
   "codemirror_mode": {
    "name": "ipython",
    "version": 3
   },
   "file_extension": ".py",
   "mimetype": "text/x-python",
   "name": "python",
   "nbconvert_exporter": "python",
   "pygments_lexer": "ipython3",
   "version": "3.10.5"
  }
 },
 "nbformat": 4,
 "nbformat_minor": 2
}
