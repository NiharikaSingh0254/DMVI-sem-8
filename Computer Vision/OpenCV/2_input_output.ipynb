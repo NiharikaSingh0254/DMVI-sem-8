{
 "cells": [
  {
   "cell_type": "code",
   "execution_count": 2,
   "metadata": {},
   "outputs": [
    {
     "data": {
      "text/plain": [
       "-1"
      ]
     },
     "execution_count": 2,
     "metadata": {},
     "output_type": "execute_result"
    }
   ],
   "source": [
    "import cv2\n",
    "import os\n",
    "\n",
    "# read the image\n",
    "image_path = os.path.join('squirrel.jpg')\n",
    "\n",
    "img=cv2.imread(image_path)\n",
    "\n",
    "# write the image\n",
    "cv2.imwrite(os.path.join('squirrel_copy.jpg'), img)\n",
    "\n",
    "# visualize the image\n",
    "cv2.imshow('frame', img)\n",
    "cv2.waitKey(0)\n"
   ]
  },
  {
   "cell_type": "markdown",
   "metadata": {},
   "source": [
    "### **For Video**"
   ]
  },
  {
   "cell_type": "code",
   "execution_count": 3,
   "metadata": {},
   "outputs": [],
   "source": [
    "video_path = os.path.join('video.mp4')\n",
    "video_capture = cv2.VideoCapture(video_path)\n",
    "\n",
    "# visualize the video\n",
    "ret = True\n",
    "while ret:\n",
    "    ret, frame = video_capture.read()\n",
    "    if ret:\n",
    "        cv2.imshow('frame', frame)\n",
    "        cv2.waitKey(1)\n",
    "\n",
    "# release the video capture object\n",
    "video_capture.release()\n",
    "cv2.destroyAllWindows()\n"
   ]
  },
  {
   "cell_type": "code",
   "execution_count": null,
   "metadata": {},
   "outputs": [],
   "source": []
  }
 ],
 "metadata": {
  "kernelspec": {
   "display_name": "Python 3",
   "language": "python",
   "name": "python3"
  },
  "language_info": {
   "codemirror_mode": {
    "name": "ipython",
    "version": 3
   },
   "file_extension": ".py",
   "mimetype": "text/x-python",
   "name": "python",
   "nbconvert_exporter": "python",
   "pygments_lexer": "ipython3",
   "version": "3.11.9"
  }
 },
 "nbformat": 4,
 "nbformat_minor": 2
}
