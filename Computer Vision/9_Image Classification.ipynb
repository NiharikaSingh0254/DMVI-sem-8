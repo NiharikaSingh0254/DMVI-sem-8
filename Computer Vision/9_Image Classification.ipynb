{
 "cells": [
  {
   "cell_type": "markdown",
   "id": "7fbcb9f5-e60d-4434-994e-1e71fd9474c4",
   "metadata": {},
   "source": [
    "## **1. Import Necessary libraries**"
   ]
  },
  {
   "cell_type": "code",
   "execution_count": 51,
   "id": "554b0559-e017-4c32-9126-6c02ae6b6769",
   "metadata": {},
   "outputs": [],
   "source": [
    "import cv2\n",
    "import numpy as np\n",
    "import os\n",
    "from sklearn.svm import SVC\n",
    "from sklearn.model_selection import train_test_split\n",
    "from sklearn.metrics import classification_report, accuracy_score\n",
    "import matplotlib.pyplot as plt"
   ]
  },
  {
   "cell_type": "markdown",
   "id": "9e970381-92ee-4478-8650-32facd32f9e4",
   "metadata": {},
   "source": [
    "## **2. Load Images and Extract Features**"
   ]
  },
  {
   "cell_type": "markdown",
   "id": "336c51cd-cdcf-431c-a82b-8eafce7f4b30",
   "metadata": {},
   "source": [
    "### **Function to Extract HOG Features**"
   ]
  },
  {
   "cell_type": "code",
   "execution_count": 52,
   "id": "8b248cb4-52a8-4524-8c85-8e3e22e667e5",
   "metadata": {},
   "outputs": [],
   "source": [
    "def extract_hog_features(image):\n",
    "    hog_descriptor=cv2.HOGDescriptor()\n",
    "    hog_features=hog_descriptor.compute(image)\n",
    "    return hog_features"
   ]
  },
  {
   "cell_type": "markdown",
   "id": "bfe27e13-b856-451d-8ca0-58d62746393e",
   "metadata": {},
   "source": [
    "### **Loading Images and Labels**"
   ]
  },
  {
   "cell_type": "code",
   "execution_count": 53,
   "id": "76139d93-65f8-4b3e-9172-203ee7d3bbb5",
   "metadata": {},
   "outputs": [],
   "source": [
    "# Load and prepare the dataset\n",
    "\n",
    "def load_images_and_labels(folder):\n",
    "    feature_vectors = []\n",
    "    labels = []\n",
    "\n",
    "    # For each folder\n",
    "    for label, folder_name in enumerate(folder):\n",
    "        folder_path = os.path.join('D:\\SEM 8\\Computer Vision\\Animals', folder_name)\n",
    "        image_paths = [os.path.join(folder_path, file) for file in os.listdir(folder_path) if file.endswith('.jpg')]\n",
    "\n",
    "        for image_path in image_paths:\n",
    "            image = cv2.imread(image_path)\n",
    "            gray_image = cv2.cvtColor(image, cv2.COLOR_BGR2GRAY)\n",
    "            resized_image = cv2.resize(gray_image, (64, 128))\n",
    "\n",
    "            features = extract_hog_features(resized_image)\n",
    "            feature_vectors.append(features)\n",
    "            labels.append(label)\n",
    "\n",
    "    return np.array(feature_vectors), np.array(labels)"
   ]
  },
  {
   "cell_type": "code",
   "execution_count": 54,
   "id": "2e4bdc0b",
   "metadata": {},
   "outputs": [],
   "source": [
    "folder=['cats', 'dogs', 'snakes']\n",
    "feature_vectors,labels=load_images_and_labels(folder)"
   ]
  },
  {
   "cell_type": "code",
   "execution_count": 55,
   "id": "9d61fcb2",
   "metadata": {},
   "outputs": [
    {
     "data": {
      "text/plain": [
       "array([[0.2671464 , 0.06417033, 0.02682497, ..., 0.24651693, 0.24651693,\n",
       "        0.23092984],\n",
       "       [0.18998984, 0.16621618, 0.08479402, ..., 0.2158035 , 0.25118038,\n",
       "        0.17661369],\n",
       "       [0.0990245 , 0.07832853, 0.13829508, ..., 0.0590654 , 0.05840059,\n",
       "        0.07236026],\n",
       "       ...,\n",
       "       [0.18563877, 0.1776225 , 0.14491385, ..., 0.13561237, 0.04299479,\n",
       "        0.07314017],\n",
       "       [0.09971177, 0.18428993, 0.13012731, ..., 0.22553225, 0.22553225,\n",
       "        0.19224657],\n",
       "       [0.0013138 , 0.00162204, 0.00268776, ..., 0.20706685, 0.08148804,\n",
       "        0.02074043]], dtype=float32)"
      ]
     },
     "execution_count": 55,
     "metadata": {},
     "output_type": "execute_result"
    }
   ],
   "source": [
    "feature_vectors"
   ]
  },
  {
   "cell_type": "code",
   "execution_count": 56,
   "id": "d8879b1a",
   "metadata": {},
   "outputs": [
    {
     "data": {
      "text/plain": [
       "array([0, 0, 0, ..., 2, 2, 2])"
      ]
     },
     "execution_count": 56,
     "metadata": {},
     "output_type": "execute_result"
    }
   ],
   "source": [
    "labels"
   ]
  },
  {
   "cell_type": "markdown",
   "id": "e1689a53",
   "metadata": {},
   "source": [
    "## **3. Splitting the dataset**"
   ]
  },
  {
   "cell_type": "code",
   "execution_count": 57,
   "id": "34fa64a4",
   "metadata": {},
   "outputs": [],
   "source": [
    "x_train,x_test,y_train,y_test=train_test_split(feature_vectors,labels,test_size=0.3,random_state=42)"
   ]
  },
  {
   "cell_type": "markdown",
   "id": "9b401b14",
   "metadata": {},
   "source": [
    "## **4. Creating & Training the SVM Classifier**"
   ]
  },
  {
   "cell_type": "code",
   "execution_count": 58,
   "id": "75f7baee",
   "metadata": {},
   "outputs": [
    {
     "data": {
      "text/plain": [
       "True"
      ]
     },
     "execution_count": 58,
     "metadata": {},
     "output_type": "execute_result"
    }
   ],
   "source": [
    "svm_classifier = cv2.ml.SVM_create()\n",
    "svm_classifier.setKernel(cv2.ml.SVM_LINEAR)\n",
    "svm_classifier.setType(cv2.ml.SVM_C_SVC)\n",
    "svm_classifier.setC(1)\n",
    "\n",
    "# Train the SVM Classifier\n",
    "svm_classifier.train(x_train, cv2.ml.ROW_SAMPLE, y_train)\n"
   ]
  },
  {
   "cell_type": "markdown",
   "id": "db2e89f0",
   "metadata": {},
   "source": [
    "## **5. Saving the Trained model**"
   ]
  },
  {
   "cell_type": "code",
   "execution_count": 59,
   "id": "721ac6e0",
   "metadata": {},
   "outputs": [],
   "source": [
    "svm_classifier.save('svm-animal.xml')"
   ]
  },
  {
   "cell_type": "markdown",
   "id": "8fe2455b",
   "metadata": {},
   "source": [
    "## **6. Evaluate the model**"
   ]
  },
  {
   "cell_type": "code",
   "execution_count": 60,
   "id": "504797d8",
   "metadata": {},
   "outputs": [
    {
     "name": "stdout",
     "output_type": "stream",
     "text": [
      "Test Accuracy: 33.45\n"
     ]
    }
   ],
   "source": [
    "test_result, test_predictions=svm_classifier.predict(x_test)\n",
    "\n",
    "# Calculate accuracy\n",
    "test_accuracy=np.mean(test_predictions == y_test)\n",
    "\n",
    "print(f'Test Accuracy: {test_accuracy*100:.2f}')\n",
    "\n"
   ]
  },
  {
   "cell_type": "markdown",
   "id": "c53584a8",
   "metadata": {},
   "source": [
    "## **7. Test on new images**"
   ]
  },
  {
   "cell_type": "code",
   "execution_count": 65,
   "id": "2daa03c4",
   "metadata": {},
   "outputs": [
    {
     "name": "stdout",
     "output_type": "stream",
     "text": [
      "Cat\n"
     ]
    }
   ],
   "source": [
    "def classify_new_image(image_path):\n",
    "    image = cv2.imread(image_path)\n",
    "    if image is None:\n",
    "        print(f\"Error: Image at {image_path} could not be loaded.\")\n",
    "        return\n",
    "    gray_image = cv2.cvtColor(image, cv2.COLOR_BGR2GRAY)\n",
    "    resized_image = cv2.resize(gray_image, (64, 128))\n",
    "    hog_features = extract_hog_features(resized_image)\n",
    "\n",
    "    # Reshape the feature to 2D array\n",
    "    feature_reshaped = hog_features.reshape(1, -1).astype(np.float32)\n",
    "\n",
    "    # SVM Classifier\n",
    "    svm_classifier = cv2.ml.SVM_load('svm-animal.xml')\n",
    "\n",
    "    # Make a prediction\n",
    "    prediction_res, predicted_res = svm_classifier.predict(feature_reshaped)\n",
    "\n",
    "    # Get the label\n",
    "    predicted_label = int(predicted_res[0][0])\n",
    "\n",
    "    # Output\n",
    "    if predicted_label == 0:\n",
    "        print(\"Cat\")\n",
    "    elif predicted_label == 1:\n",
    "        print(\"Dog\")\n",
    "    elif predicted_label == 2:\n",
    "        print(\"Snake\")\n",
    "    else:\n",
    "        print(\"Unknown\")\n",
    "\n",
    "classify_new_image(r'D:\\SEM 8\\Computer Vision\\Animals\\cats\\0_0998.jpg')"
   ]
  },
  {
   "cell_type": "code",
   "execution_count": null,
   "id": "50a08651",
   "metadata": {},
   "outputs": [],
   "source": []
  }
 ],
 "metadata": {
  "kernelspec": {
   "display_name": "Python 3",
   "language": "python",
   "name": "python3"
  },
  "language_info": {
   "codemirror_mode": {
    "name": "ipython",
    "version": 3
   },
   "file_extension": ".py",
   "mimetype": "text/x-python",
   "name": "python",
   "nbconvert_exporter": "python",
   "pygments_lexer": "ipython3",
   "version": "3.10.5"
  }
 },
 "nbformat": 4,
 "nbformat_minor": 5
}
