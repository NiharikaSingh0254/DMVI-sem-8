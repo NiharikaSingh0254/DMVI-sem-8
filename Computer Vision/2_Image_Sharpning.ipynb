{
 "cells": [
  {
   "cell_type": "code",
   "execution_count": 1,
   "metadata": {},
   "outputs": [
    {
     "name": "stdout",
     "output_type": "stream",
     "text": [
      "4.8.0\n"
     ]
    }
   ],
   "source": [
    "import cv2\n",
    "print(cv2.__version__)"
   ]
  },
  {
   "cell_type": "code",
   "execution_count": 2,
   "metadata": {},
   "outputs": [],
   "source": [
    "from matplotlib import pyplot as plt"
   ]
  },
  {
   "cell_type": "markdown",
   "metadata": {},
   "source": [
    "### **1. Unsharp Masking**"
   ]
  },
  {
   "cell_type": "code",
   "execution_count": 3,
   "metadata": {},
   "outputs": [],
   "source": [
    "# Load the image\n",
    "img = cv2.imread('cv2.jpg')\n",
    "\n",
    "# Apply the gaussian blur to create the blurred image\n",
    "blurred_img = cv2.GaussianBlur(img, (5,5), 0)\n",
    "\n",
    "# Compute the high frequency components\n",
    "high_frequencies =cv2.subtract(img, blurred_img)\n",
    "\n",
    "# Add the high frequency components back to the original image which will enhance image\n",
    "sharp_img = cv2.addWeighted(img, 1.5,blurred_img, -0.5, 0)\n",
    "\n",
    "# cv2.addWeighted() : combines two images with specified weigth\n",
    "# image 1.5 : the original image is scaled by a factor of 1.5\n",
    "# blr_image, -0.5 : the blurred image is scaled by -0.5\n",
    "# 0 : the scaler added to each pixel after weighted sum(bias)\n",
    "\n",
    "# Display the results\n",
    "cv2.imshow('Original Image',img)\n",
    "cv2.imshow('Unsharp Masking(Sharpened) Image', sharp_img)\n",
    "\n",
    "cv2.waitKey(0)\n",
    "cv2.destroyAllWindows()"
   ]
  },
  {
   "cell_type": "markdown",
   "metadata": {},
   "source": [
    "### **2. Sharpening Kernel**"
   ]
  },
  {
   "cell_type": "code",
   "execution_count": 4,
   "metadata": {},
   "outputs": [],
   "source": [
    "# Sharpening kernel\n",
    "import numpy as np\n",
    "\n",
    "# Load the image\n",
    "img = cv2.imread('cv3.jpg')\n",
    "\n",
    "# Define the sharpening kernel\n",
    "kernel = np.array([[0, -1, 0],\n",
    "                  [-1,  5, -1],\n",
    "                  [0, -1, 0]])\n",
    "\n",
    "# Apply the sharpening filter\n",
    "sharp_img = cv2.filter2D(img, -1, kernel)\n",
    "\n",
    "# cv2.filter2D() : applies a 2D convolution filter to an input image\n",
    "# -1 : specifies output image will have the same depth as input image\n",
    "# Display the results\n",
    "cv2.imshow('Original Image',img)\n",
    "cv2.imshow('Sharpened Image', sharp_img)\n",
    "\n",
    "cv2.waitKey(0)\n",
    "cv2.destroyAllWindows()\n"
   ]
  },
  {
   "cell_type": "code",
   "execution_count": null,
   "metadata": {},
   "outputs": [],
   "source": []
  }
 ],
 "metadata": {
  "kernelspec": {
   "display_name": "Python 3",
   "language": "python",
   "name": "python3"
  },
  "language_info": {
   "codemirror_mode": {
    "name": "ipython",
    "version": 3
   },
   "file_extension": ".py",
   "mimetype": "text/x-python",
   "name": "python",
   "nbconvert_exporter": "python",
   "pygments_lexer": "ipython3",
   "version": "3.10.5"
  }
 },
 "nbformat": 4,
 "nbformat_minor": 2
}
